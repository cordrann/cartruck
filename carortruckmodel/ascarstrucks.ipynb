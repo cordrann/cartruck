{
 "cells": [
  {
   "cell_type": "code",
   "execution_count": 1,
   "metadata": {},
   "outputs": [
    {
     "name": "stdout",
     "output_type": "stream",
     "text": [
      "WARNING:tensorflow:From e:\\Anaconda\\Lib\\site-packages\\keras\\src\\losses.py:2976: The name tf.losses.sparse_softmax_cross_entropy is deprecated. Please use tf.compat.v1.losses.sparse_softmax_cross_entropy instead.\n",
      "\n"
     ]
    }
   ],
   "source": [
    "import tensorflow as tf\n",
    "from tensorflow.keras.models import Sequential\n",
    "from tensorflow.keras.layers import Dense, Dropout, Activation, Flatten, Conv2D, MaxPooling2D\n",
    "import seaborn as sns\n",
    "import pandas as pd\n",
    "from tensorflow.keras.callbacks import TensorBoard\n",
    "from token import NAME\n",
    "import numpy as np\n",
    "import matplotlib.pyplot as plt\n",
    "import pathlib\n",
    "import os\n",
    "import cv2\n",
    "from sklearn.metrics import ConfusionMatrixDisplay, confusion_matrix"
   ]
  },
  {
   "cell_type": "code",
   "execution_count": 2,
   "metadata": {},
   "outputs": [],
   "source": [
    "data_path = pathlib.Path.cwd().joinpath(\"vehicle2\")\n",
    "categories = [\"car\", \"truck\"]\n",
    "\n",
    "for category in categories:\n",
    "    path = os.path.join(data_path, category)\n",
    "    for image in os.listdir(path):\n",
    "        image_array = cv2.imread(os.path.join(path, image), cv2.IMREAD_GRAYSCALE)\n",
    "\n",
    "image_height = 128\n",
    "image_width = 128\n",
    "\n",
    "new_array = cv2.resize(image_array, (image_width, image_height))\n",
    "\n"
   ]
  },
  {
   "cell_type": "code",
   "execution_count": 3,
   "metadata": {},
   "outputs": [],
   "source": [
    "training_data = []\n",
    "\n",
    "def create_training_data():\n",
    "    for category in categories:\n",
    "        path = os.path.join(data_path, category)\n",
    "        class_num = categories.index(category)\n",
    "        for image in os.listdir(path):\n",
    "            try:\n",
    "                image_array = cv2.imread(os.path.join(path, image), cv2.IMREAD_GRAYSCALE)\n",
    "                new_array = cv2.resize(image_array, (image_width, image_height))\n",
    "                training_data.append([new_array, class_num])\n",
    "            except Exception as e:\n",
    "                print(os.path.join(path, image))\n",
    "\n",
    "create_training_data()"
   ]
  },
  {
   "cell_type": "code",
   "execution_count": 4,
   "metadata": {},
   "outputs": [],
   "source": [
    "import random\n",
    "\n",
    "random.shuffle(training_data)"
   ]
  },
  {
   "cell_type": "code",
   "execution_count": 5,
   "metadata": {},
   "outputs": [],
   "source": [
    "x = []\n",
    "y = []"
   ]
  },
  {
   "cell_type": "code",
   "execution_count": 6,
   "metadata": {},
   "outputs": [],
   "source": [
    "for features, label in training_data:\n",
    "    x.append(features)\n",
    "    y.append(label)\n",
    "\n",
    "x = np.array(x).reshape(-1, image_height, image_width, 1)\n",
    "y = np.array(y)\n",
    "x = x/255.0"
   ]
  },
  {
   "cell_type": "code",
   "execution_count": 7,
   "metadata": {},
   "outputs": [],
   "source": [
    "\n",
    "tensorboard = TensorBoard(log_dir='carlogs/{}'.format(NAME))"
   ]
  },
  {
   "cell_type": "code",
   "execution_count": 8,
   "metadata": {},
   "outputs": [
    {
     "name": "stdout",
     "output_type": "stream",
     "text": [
      "WARNING:tensorflow:From e:\\Anaconda\\Lib\\site-packages\\keras\\src\\backend.py:873: The name tf.get_default_graph is deprecated. Please use tf.compat.v1.get_default_graph instead.\n",
      "\n",
      "WARNING:tensorflow:From e:\\Anaconda\\Lib\\site-packages\\keras\\src\\layers\\pooling\\max_pooling2d.py:161: The name tf.nn.max_pool is deprecated. Please use tf.nn.max_pool2d instead.\n",
      "\n",
      "WARNING:tensorflow:From e:\\Anaconda\\Lib\\site-packages\\keras\\src\\optimizers\\__init__.py:309: The name tf.train.Optimizer is deprecated. Please use tf.compat.v1.train.Optimizer instead.\n",
      "\n",
      "Epoch 1/10\n",
      "WARNING:tensorflow:From e:\\Anaconda\\Lib\\site-packages\\keras\\src\\utils\\tf_utils.py:492: The name tf.ragged.RaggedTensorValue is deprecated. Please use tf.compat.v1.ragged.RaggedTensorValue instead.\n",
      "\n",
      "WARNING:tensorflow:From e:\\Anaconda\\Lib\\site-packages\\keras\\src\\engine\\base_layer_utils.py:384: The name tf.executing_eagerly_outside_functions is deprecated. Please use tf.compat.v1.executing_eagerly_outside_functions instead.\n",
      "\n",
      "255/255 [==============================] - 35s 132ms/step - loss: 0.6426 - accuracy: 0.6287 - val_loss: 0.5690 - val_accuracy: 0.7232\n",
      "Epoch 2/10\n",
      "255/255 [==============================] - 33s 129ms/step - loss: 0.5363 - accuracy: 0.7305 - val_loss: 0.7565 - val_accuracy: 0.5973\n",
      "Epoch 3/10\n",
      "255/255 [==============================] - 32s 127ms/step - loss: 0.4853 - accuracy: 0.7737 - val_loss: 0.4330 - val_accuracy: 0.8058\n",
      "Epoch 4/10\n",
      "255/255 [==============================] - 32s 127ms/step - loss: 0.4036 - accuracy: 0.8226 - val_loss: 0.3819 - val_accuracy: 0.8382\n",
      "Epoch 5/10\n",
      "255/255 [==============================] - 32s 127ms/step - loss: 0.3604 - accuracy: 0.8392 - val_loss: 0.3564 - val_accuracy: 0.8559\n",
      "Epoch 6/10\n",
      "255/255 [==============================] - 32s 127ms/step - loss: 0.3128 - accuracy: 0.8740 - val_loss: 0.3156 - val_accuracy: 0.8668\n",
      "Epoch 7/10\n",
      "255/255 [==============================] - 32s 127ms/step - loss: 0.2821 - accuracy: 0.8827 - val_loss: 0.3159 - val_accuracy: 0.8623\n",
      "Epoch 8/10\n",
      "255/255 [==============================] - 33s 129ms/step - loss: 0.2499 - accuracy: 0.8949 - val_loss: 0.2858 - val_accuracy: 0.8909\n",
      "Epoch 9/10\n",
      "255/255 [==============================] - 33s 131ms/step - loss: 0.2231 - accuracy: 0.9094 - val_loss: 0.2868 - val_accuracy: 0.8810\n",
      "Epoch 10/10\n",
      "255/255 [==============================] - 32s 127ms/step - loss: 0.2058 - accuracy: 0.9142 - val_loss: 0.2854 - val_accuracy: 0.8840\n"
     ]
    },
    {
     "data": {
      "text/plain": [
       "<keras.src.callbacks.History at 0x21627046390>"
      ]
     },
     "execution_count": 8,
     "metadata": {},
     "output_type": "execute_result"
    }
   ],
   "source": [
    "model = Sequential()\n",
    "\n",
    "model.add(Conv2D(32, (3,3), input_shape = x.shape[1:]))\n",
    "model.add(Activation(\"relu\"))\n",
    "model.add(MaxPooling2D(pool_size=(2,2)))\n",
    "\n",
    "model.add(Conv2D(64, (3,3)))\n",
    "model.add(Activation(\"relu\"))\n",
    "model.add(MaxPooling2D(pool_size=(2,2)))\n",
    "\n",
    "model.add(Conv2D(128, (3,3)))\n",
    "model.add(Activation(\"relu\"))\n",
    "model.add(MaxPooling2D(pool_size=(2,2)))\n",
    "\n",
    "model.add(Flatten())\n",
    "model.add(Dropout(0.5))\n",
    "\n",
    "model.add(Dense(1))\n",
    "model.add(Activation(\"sigmoid\"))\n",
    "\n",
    "model.compile(loss=\"binary_crossentropy\",\n",
    "              optimizer=\"adam\",\n",
    "              metrics=['accuracy'])\n",
    "\n",
    "model.fit(x, y, batch_size=32, epochs=10, validation_split=0.2, callbacks=[tensorboard])"
   ]
  },
  {
   "cell_type": "code",
   "execution_count": 9,
   "metadata": {},
   "outputs": [
    {
     "name": "stdout",
     "output_type": "stream",
     "text": [
      "318/318 [==============================] - 11s 34ms/step\n"
     ]
    }
   ],
   "source": [
    "y_preds = model.predict(x)\n",
    "y_probs = y_preds.round().astype(int)\n",
    "y_flat = y_probs.reshape(-1)\n",
    "cm = confusion_matrix(y, y_flat)"
   ]
  },
  {
   "cell_type": "code",
   "execution_count": 10,
   "metadata": {},
   "outputs": [],
   "source": [
    "def show_car_matrix():\n",
    "    cmd_obj = ConfusionMatrixDisplay(cm, display_labels=categories)\n",
    "    cmd_obj.plot()\n",
    "    cmd_obj.ax_.set(title='Car/Truck Confusion Matrix',\n",
    "                    xlabel='Predicted',\n",
    "                    ylabel='Actual')\n",
    "    plt.show()"
   ]
  },
  {
   "cell_type": "code",
   "execution_count": 11,
   "metadata": {},
   "outputs": [
    {
     "name": "stdout",
     "output_type": "stream",
     "text": [
      "INFO:tensorflow:Assets written to: carstrucks.model\\assets\n"
     ]
    },
    {
     "name": "stderr",
     "output_type": "stream",
     "text": [
      "INFO:tensorflow:Assets written to: carstrucks.model\\assets\n"
     ]
    }
   ],
   "source": [
    "model.save('carstrucks.model')"
   ]
  },
  {
   "cell_type": "code",
   "execution_count": null,
   "metadata": {},
   "outputs": [],
   "source": [
    "model = tf.keras.models.load_model('carstrucks.model')"
   ]
  },
  {
   "cell_type": "code",
   "execution_count": null,
   "metadata": {},
   "outputs": [],
   "source": [
    "import requests"
   ]
  },
  {
   "cell_type": "code",
   "execution_count": null,
   "metadata": {},
   "outputs": [],
   "source": [
    "from PIL import Image"
   ]
  },
  {
   "cell_type": "code",
   "execution_count": null,
   "metadata": {},
   "outputs": [],
   "source": [
    "import urllib"
   ]
  },
  {
   "cell_type": "code",
   "execution_count": null,
   "metadata": {},
   "outputs": [],
   "source": [
    "def predictionurl(url):\n",
    "    req=urllib.request.urlopen(url)\n",
    "    arr=np.asarray(bytearray(req.read()), dtype=np.uint8)\n",
    "    img=cv2.imdecode(arr, -1)\n",
    "    grayimg = cv2.cvtColor(img, cv2.COLOR_BGR2GRAY)\n",
    "    image_height = 128\n",
    "    image_width = 128\n",
    "    new_array = cv2.resize(grayimg, (image_width, image_height))\n",
    "    new_array = new_array.reshape(-1, image_height, image_width, 1)\n",
    "    print(categories[int(model.predict([new_array]))])\n",
    "    return\n",
    "\n"
   ]
  },
  {
   "cell_type": "code",
   "execution_count": null,
   "metadata": {},
   "outputs": [],
   "source": [
    "def predictionfile(filename):\n",
    "    image_height = 128\n",
    "    image_width = 128\n",
    "    image_array = cv2.imread(filename, cv2.IMREAD_GRAYSCALE)\n",
    "    new_array = cv2.resize(image_array, (image_width, image_height))\n",
    "    new_array = new_array.reshape(-1, image_height, image_width, 1)\n",
    "    print(categories[int(model.predict([new_array]))])\n",
    "    return"
   ]
  }
 ],
 "metadata": {
  "kernelspec": {
   "display_name": "py312",
   "language": "python",
   "name": "python3"
  },
  "language_info": {
   "codemirror_mode": {
    "name": "ipython",
    "version": 3
   },
   "file_extension": ".py",
   "mimetype": "text/x-python",
   "name": "python",
   "nbconvert_exporter": "python",
   "pygments_lexer": "ipython3",
   "version": "3.11.5"
  }
 },
 "nbformat": 4,
 "nbformat_minor": 2
}
